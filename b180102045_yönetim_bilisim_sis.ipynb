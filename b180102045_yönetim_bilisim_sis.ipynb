{
  "cells": [
    {
      "cell_type": "markdown",
      "source": [
        "### Giriş"
      ],
      "metadata": {
        "id": "OFkBQ75hzc-8"
      },
      "id": "OFkBQ75hzc-8"
    },
    {
      "cell_type": "markdown",
      "metadata": {
        "id": "-kJGbpPN7TRR"
      },
      "source": [
        "*   Onur Dilaver Yarar\n",
        "*   B180102045\n"
      ],
      "id": "-kJGbpPN7TRR"
    },
    {
      "cell_type": "markdown",
      "id": "a092a99c-d7a4-4769-93e1-e9e80b4e304d",
      "metadata": {
        "id": "a092a99c-d7a4-4769-93e1-e9e80b4e304d"
      },
      "source": [
        "**Bilgi:** Bu çalışma Python dilinin 3.9 sürümüyle ve Jupyter Lab üzerinde yazılmıştır.\n",
        "\n",
        "Üretimlerde makinelerin ne zaman arıza vereceği tam olarak bilinmemektedir. Makinenin bozulması tahmin edilerek ne zaman bakım yapılacağı da bilinir. Böylece üretimde en az durmayla makine arızaları atlatılır. \n",
        "\n",
        "Bu çalışmada bir makinenin bozulma verileri üzerinden yola çıkılmıştır. Bu veriler bir karar ağacı olan LightGBM ve Lojistik Regresyon ile modelleri eğitilmiş sonra en baştan arıza verip vermeyeceği sınıflandırma tahmini yapılmıştır. Sonra her modelde hangi özniteliğin daha önemli ona bakılmıştır. Böylece hangi model daha iyi ve makinenin neye göre bozulduğu öğrenilebilir.\n",
        "\n",
        "Kullanılan veri seti: https://archive.ics.uci.edu/ml/datasets/AI4I+2020+Predictive+Maintenance+Dataset"
      ]
    },
    {
      "cell_type": "markdown",
      "metadata": {
        "id": "tpX_pHrM71Fg"
      },
      "source": [
        "### Kütüphane Yükleme"
      ],
      "id": "tpX_pHrM71Fg"
    },
    {
      "cell_type": "code",
      "execution_count": 80,
      "id": "981bb0a5-625e-48db-bacc-7a979ca480dc",
      "metadata": {
        "id": "981bb0a5-625e-48db-bacc-7a979ca480dc"
      },
      "outputs": [],
      "source": [
        "import pandas as pd  # Veri yapıları ile çalışmak için pandas modülü.\n",
        "import numpy as np # Dizi işlemleri için numpy modülü.\n",
        "import matplotlib.pyplot as plt # Grafikler için matplotlib modülü.\n",
        "import lightgbm as lgb # LightGBM modülü lgb olarak yüklenir.\n",
        "from sklearn import metrics # Performans değerlendirmleri için modül\n",
        "from sklearn.model_selection import train_test_split # veriyi eğitim ve test diye ayırmak için modül\n",
        "import seaborn as sns # grafik(pasta) çizdirmek için seaborn modülü sns olarak yüklenir"
      ]
    },
    {
      "cell_type": "markdown",
      "metadata": {
        "id": "EdxnpM6i8FXH"
      },
      "source": [
        "### Veri İnceleme"
      ],
      "id": "EdxnpM6i8FXH"
    },
    {
      "cell_type": "code",
      "execution_count": 81,
      "id": "2d7a16b0-5228-49fb-872f-6b3afa47170a",
      "metadata": {
        "colab": {
          "base_uri": "https://localhost:8080/",
          "height": 516
        },
        "id": "2d7a16b0-5228-49fb-872f-6b3afa47170a",
        "outputId": "2ef3d3b6-5396-47d0-e664-6ccf38fff1b7"
      },
      "outputs": [
        {
          "output_type": "execute_result",
          "data": {
            "text/plain": [
              "      Product ID Type  Air temperature [K]  Process temperature [K]  \\\n",
              "UDI                                                                   \n",
              "1         M14860    M                298.1                    308.6   \n",
              "2         L47181    L                298.2                    308.7   \n",
              "3         L47182    L                298.1                    308.5   \n",
              "4         L47183    L                298.2                    308.6   \n",
              "5         L47184    L                298.2                    308.7   \n",
              "...          ...  ...                  ...                      ...   \n",
              "9996      M24855    M                298.8                    308.4   \n",
              "9997      H39410    H                298.9                    308.4   \n",
              "9998      M24857    M                299.0                    308.6   \n",
              "9999      H39412    H                299.0                    308.7   \n",
              "10000     M24859    M                299.0                    308.7   \n",
              "\n",
              "       Rotational speed [rpm]  Torque [Nm]  Tool wear [min]  Machine failure  \\\n",
              "UDI                                                                            \n",
              "1                        1551         42.8                0                0   \n",
              "2                        1408         46.3                3                0   \n",
              "3                        1498         49.4                5                0   \n",
              "4                        1433         39.5                7                0   \n",
              "5                        1408         40.0                9                0   \n",
              "...                       ...          ...              ...              ...   \n",
              "9996                     1604         29.5               14                0   \n",
              "9997                     1632         31.8               17                0   \n",
              "9998                     1645         33.4               22                0   \n",
              "9999                     1408         48.5               25                0   \n",
              "10000                    1500         40.2               30                0   \n",
              "\n",
              "       TWF  HDF  PWF  OSF  RNF  \n",
              "UDI                             \n",
              "1        0    0    0    0    0  \n",
              "2        0    0    0    0    0  \n",
              "3        0    0    0    0    0  \n",
              "4        0    0    0    0    0  \n",
              "5        0    0    0    0    0  \n",
              "...    ...  ...  ...  ...  ...  \n",
              "9996     0    0    0    0    0  \n",
              "9997     0    0    0    0    0  \n",
              "9998     0    0    0    0    0  \n",
              "9999     0    0    0    0    0  \n",
              "10000    0    0    0    0    0  \n",
              "\n",
              "[10000 rows x 13 columns]"
            ],
            "text/html": [
              "\n",
              "  <div id=\"df-ea6272ce-da4e-4e69-a3d2-f5ef2bc2d1d5\">\n",
              "    <div class=\"colab-df-container\">\n",
              "      <div>\n",
              "<style scoped>\n",
              "    .dataframe tbody tr th:only-of-type {\n",
              "        vertical-align: middle;\n",
              "    }\n",
              "\n",
              "    .dataframe tbody tr th {\n",
              "        vertical-align: top;\n",
              "    }\n",
              "\n",
              "    .dataframe thead th {\n",
              "        text-align: right;\n",
              "    }\n",
              "</style>\n",
              "<table border=\"1\" class=\"dataframe\">\n",
              "  <thead>\n",
              "    <tr style=\"text-align: right;\">\n",
              "      <th></th>\n",
              "      <th>Product ID</th>\n",
              "      <th>Type</th>\n",
              "      <th>Air temperature [K]</th>\n",
              "      <th>Process temperature [K]</th>\n",
              "      <th>Rotational speed [rpm]</th>\n",
              "      <th>Torque [Nm]</th>\n",
              "      <th>Tool wear [min]</th>\n",
              "      <th>Machine failure</th>\n",
              "      <th>TWF</th>\n",
              "      <th>HDF</th>\n",
              "      <th>PWF</th>\n",
              "      <th>OSF</th>\n",
              "      <th>RNF</th>\n",
              "    </tr>\n",
              "    <tr>\n",
              "      <th>UDI</th>\n",
              "      <th></th>\n",
              "      <th></th>\n",
              "      <th></th>\n",
              "      <th></th>\n",
              "      <th></th>\n",
              "      <th></th>\n",
              "      <th></th>\n",
              "      <th></th>\n",
              "      <th></th>\n",
              "      <th></th>\n",
              "      <th></th>\n",
              "      <th></th>\n",
              "      <th></th>\n",
              "    </tr>\n",
              "  </thead>\n",
              "  <tbody>\n",
              "    <tr>\n",
              "      <th>1</th>\n",
              "      <td>M14860</td>\n",
              "      <td>M</td>\n",
              "      <td>298.1</td>\n",
              "      <td>308.6</td>\n",
              "      <td>1551</td>\n",
              "      <td>42.8</td>\n",
              "      <td>0</td>\n",
              "      <td>0</td>\n",
              "      <td>0</td>\n",
              "      <td>0</td>\n",
              "      <td>0</td>\n",
              "      <td>0</td>\n",
              "      <td>0</td>\n",
              "    </tr>\n",
              "    <tr>\n",
              "      <th>2</th>\n",
              "      <td>L47181</td>\n",
              "      <td>L</td>\n",
              "      <td>298.2</td>\n",
              "      <td>308.7</td>\n",
              "      <td>1408</td>\n",
              "      <td>46.3</td>\n",
              "      <td>3</td>\n",
              "      <td>0</td>\n",
              "      <td>0</td>\n",
              "      <td>0</td>\n",
              "      <td>0</td>\n",
              "      <td>0</td>\n",
              "      <td>0</td>\n",
              "    </tr>\n",
              "    <tr>\n",
              "      <th>3</th>\n",
              "      <td>L47182</td>\n",
              "      <td>L</td>\n",
              "      <td>298.1</td>\n",
              "      <td>308.5</td>\n",
              "      <td>1498</td>\n",
              "      <td>49.4</td>\n",
              "      <td>5</td>\n",
              "      <td>0</td>\n",
              "      <td>0</td>\n",
              "      <td>0</td>\n",
              "      <td>0</td>\n",
              "      <td>0</td>\n",
              "      <td>0</td>\n",
              "    </tr>\n",
              "    <tr>\n",
              "      <th>4</th>\n",
              "      <td>L47183</td>\n",
              "      <td>L</td>\n",
              "      <td>298.2</td>\n",
              "      <td>308.6</td>\n",
              "      <td>1433</td>\n",
              "      <td>39.5</td>\n",
              "      <td>7</td>\n",
              "      <td>0</td>\n",
              "      <td>0</td>\n",
              "      <td>0</td>\n",
              "      <td>0</td>\n",
              "      <td>0</td>\n",
              "      <td>0</td>\n",
              "    </tr>\n",
              "    <tr>\n",
              "      <th>5</th>\n",
              "      <td>L47184</td>\n",
              "      <td>L</td>\n",
              "      <td>298.2</td>\n",
              "      <td>308.7</td>\n",
              "      <td>1408</td>\n",
              "      <td>40.0</td>\n",
              "      <td>9</td>\n",
              "      <td>0</td>\n",
              "      <td>0</td>\n",
              "      <td>0</td>\n",
              "      <td>0</td>\n",
              "      <td>0</td>\n",
              "      <td>0</td>\n",
              "    </tr>\n",
              "    <tr>\n",
              "      <th>...</th>\n",
              "      <td>...</td>\n",
              "      <td>...</td>\n",
              "      <td>...</td>\n",
              "      <td>...</td>\n",
              "      <td>...</td>\n",
              "      <td>...</td>\n",
              "      <td>...</td>\n",
              "      <td>...</td>\n",
              "      <td>...</td>\n",
              "      <td>...</td>\n",
              "      <td>...</td>\n",
              "      <td>...</td>\n",
              "      <td>...</td>\n",
              "    </tr>\n",
              "    <tr>\n",
              "      <th>9996</th>\n",
              "      <td>M24855</td>\n",
              "      <td>M</td>\n",
              "      <td>298.8</td>\n",
              "      <td>308.4</td>\n",
              "      <td>1604</td>\n",
              "      <td>29.5</td>\n",
              "      <td>14</td>\n",
              "      <td>0</td>\n",
              "      <td>0</td>\n",
              "      <td>0</td>\n",
              "      <td>0</td>\n",
              "      <td>0</td>\n",
              "      <td>0</td>\n",
              "    </tr>\n",
              "    <tr>\n",
              "      <th>9997</th>\n",
              "      <td>H39410</td>\n",
              "      <td>H</td>\n",
              "      <td>298.9</td>\n",
              "      <td>308.4</td>\n",
              "      <td>1632</td>\n",
              "      <td>31.8</td>\n",
              "      <td>17</td>\n",
              "      <td>0</td>\n",
              "      <td>0</td>\n",
              "      <td>0</td>\n",
              "      <td>0</td>\n",
              "      <td>0</td>\n",
              "      <td>0</td>\n",
              "    </tr>\n",
              "    <tr>\n",
              "      <th>9998</th>\n",
              "      <td>M24857</td>\n",
              "      <td>M</td>\n",
              "      <td>299.0</td>\n",
              "      <td>308.6</td>\n",
              "      <td>1645</td>\n",
              "      <td>33.4</td>\n",
              "      <td>22</td>\n",
              "      <td>0</td>\n",
              "      <td>0</td>\n",
              "      <td>0</td>\n",
              "      <td>0</td>\n",
              "      <td>0</td>\n",
              "      <td>0</td>\n",
              "    </tr>\n",
              "    <tr>\n",
              "      <th>9999</th>\n",
              "      <td>H39412</td>\n",
              "      <td>H</td>\n",
              "      <td>299.0</td>\n",
              "      <td>308.7</td>\n",
              "      <td>1408</td>\n",
              "      <td>48.5</td>\n",
              "      <td>25</td>\n",
              "      <td>0</td>\n",
              "      <td>0</td>\n",
              "      <td>0</td>\n",
              "      <td>0</td>\n",
              "      <td>0</td>\n",
              "      <td>0</td>\n",
              "    </tr>\n",
              "    <tr>\n",
              "      <th>10000</th>\n",
              "      <td>M24859</td>\n",
              "      <td>M</td>\n",
              "      <td>299.0</td>\n",
              "      <td>308.7</td>\n",
              "      <td>1500</td>\n",
              "      <td>40.2</td>\n",
              "      <td>30</td>\n",
              "      <td>0</td>\n",
              "      <td>0</td>\n",
              "      <td>0</td>\n",
              "      <td>0</td>\n",
              "      <td>0</td>\n",
              "      <td>0</td>\n",
              "    </tr>\n",
              "  </tbody>\n",
              "</table>\n",
              "<p>10000 rows × 13 columns</p>\n",
              "</div>\n",
              "      <button class=\"colab-df-convert\" onclick=\"convertToInteractive('df-ea6272ce-da4e-4e69-a3d2-f5ef2bc2d1d5')\"\n",
              "              title=\"Convert this dataframe to an interactive table.\"\n",
              "              style=\"display:none;\">\n",
              "        \n",
              "  <svg xmlns=\"http://www.w3.org/2000/svg\" height=\"24px\"viewBox=\"0 0 24 24\"\n",
              "       width=\"24px\">\n",
              "    <path d=\"M0 0h24v24H0V0z\" fill=\"none\"/>\n",
              "    <path d=\"M18.56 5.44l.94 2.06.94-2.06 2.06-.94-2.06-.94-.94-2.06-.94 2.06-2.06.94zm-11 1L8.5 8.5l.94-2.06 2.06-.94-2.06-.94L8.5 2.5l-.94 2.06-2.06.94zm10 10l.94 2.06.94-2.06 2.06-.94-2.06-.94-.94-2.06-.94 2.06-2.06.94z\"/><path d=\"M17.41 7.96l-1.37-1.37c-.4-.4-.92-.59-1.43-.59-.52 0-1.04.2-1.43.59L10.3 9.45l-7.72 7.72c-.78.78-.78 2.05 0 2.83L4 21.41c.39.39.9.59 1.41.59.51 0 1.02-.2 1.41-.59l7.78-7.78 2.81-2.81c.8-.78.8-2.07 0-2.86zM5.41 20L4 18.59l7.72-7.72 1.47 1.35L5.41 20z\"/>\n",
              "  </svg>\n",
              "      </button>\n",
              "      \n",
              "  <style>\n",
              "    .colab-df-container {\n",
              "      display:flex;\n",
              "      flex-wrap:wrap;\n",
              "      gap: 12px;\n",
              "    }\n",
              "\n",
              "    .colab-df-convert {\n",
              "      background-color: #E8F0FE;\n",
              "      border: none;\n",
              "      border-radius: 50%;\n",
              "      cursor: pointer;\n",
              "      display: none;\n",
              "      fill: #1967D2;\n",
              "      height: 32px;\n",
              "      padding: 0 0 0 0;\n",
              "      width: 32px;\n",
              "    }\n",
              "\n",
              "    .colab-df-convert:hover {\n",
              "      background-color: #E2EBFA;\n",
              "      box-shadow: 0px 1px 2px rgba(60, 64, 67, 0.3), 0px 1px 3px 1px rgba(60, 64, 67, 0.15);\n",
              "      fill: #174EA6;\n",
              "    }\n",
              "\n",
              "    [theme=dark] .colab-df-convert {\n",
              "      background-color: #3B4455;\n",
              "      fill: #D2E3FC;\n",
              "    }\n",
              "\n",
              "    [theme=dark] .colab-df-convert:hover {\n",
              "      background-color: #434B5C;\n",
              "      box-shadow: 0px 1px 3px 1px rgba(0, 0, 0, 0.15);\n",
              "      filter: drop-shadow(0px 1px 2px rgba(0, 0, 0, 0.3));\n",
              "      fill: #FFFFFF;\n",
              "    }\n",
              "  </style>\n",
              "\n",
              "      <script>\n",
              "        const buttonEl =\n",
              "          document.querySelector('#df-ea6272ce-da4e-4e69-a3d2-f5ef2bc2d1d5 button.colab-df-convert');\n",
              "        buttonEl.style.display =\n",
              "          google.colab.kernel.accessAllowed ? 'block' : 'none';\n",
              "\n",
              "        async function convertToInteractive(key) {\n",
              "          const element = document.querySelector('#df-ea6272ce-da4e-4e69-a3d2-f5ef2bc2d1d5');\n",
              "          const dataTable =\n",
              "            await google.colab.kernel.invokeFunction('convertToInteractive',\n",
              "                                                     [key], {});\n",
              "          if (!dataTable) return;\n",
              "\n",
              "          const docLinkHtml = 'Like what you see? Visit the ' +\n",
              "            '<a target=\"_blank\" href=https://colab.research.google.com/notebooks/data_table.ipynb>data table notebook</a>'\n",
              "            + ' to learn more about interactive tables.';\n",
              "          element.innerHTML = '';\n",
              "          dataTable['output_type'] = 'display_data';\n",
              "          await google.colab.output.renderOutput(dataTable, element);\n",
              "          const docLink = document.createElement('div');\n",
              "          docLink.innerHTML = docLinkHtml;\n",
              "          element.appendChild(docLink);\n",
              "        }\n",
              "      </script>\n",
              "    </div>\n",
              "  </div>\n",
              "  "
            ]
          },
          "metadata": {},
          "execution_count": 81
        }
      ],
      "source": [
        "df = pd.read_csv('ai4i2020.csv', sep=',', index_col=0) # veri seti .csv dosyasından okunur ve df değişkenine atanır.\n",
        "df"
      ]
    },
    {
      "cell_type": "code",
      "execution_count": 82,
      "id": "ed4ed32a-b33b-4439-a0f2-174601b7c7a7",
      "metadata": {
        "colab": {
          "base_uri": "https://localhost:8080/"
        },
        "id": "ed4ed32a-b33b-4439-a0f2-174601b7c7a7",
        "outputId": "ce40b0cc-28f9-4c23-86d8-2d06f7de6a58"
      },
      "outputs": [
        {
          "output_type": "stream",
          "name": "stdout",
          "text": [
            "<class 'pandas.core.frame.DataFrame'>\n",
            "Int64Index: 10000 entries, 1 to 10000\n",
            "Data columns (total 13 columns):\n",
            " #   Column                   Non-Null Count  Dtype  \n",
            "---  ------                   --------------  -----  \n",
            " 0   Product ID               10000 non-null  object \n",
            " 1   Type                     10000 non-null  object \n",
            " 2   Air temperature [K]      10000 non-null  float64\n",
            " 3   Process temperature [K]  10000 non-null  float64\n",
            " 4   Rotational speed [rpm]   10000 non-null  int64  \n",
            " 5   Torque [Nm]              10000 non-null  float64\n",
            " 6   Tool wear [min]          10000 non-null  int64  \n",
            " 7   Machine failure          10000 non-null  int64  \n",
            " 8   TWF                      10000 non-null  int64  \n",
            " 9   HDF                      10000 non-null  int64  \n",
            " 10  PWF                      10000 non-null  int64  \n",
            " 11  OSF                      10000 non-null  int64  \n",
            " 12  RNF                      10000 non-null  int64  \n",
            "dtypes: float64(3), int64(8), object(2)\n",
            "memory usage: 1.1+ MB\n"
          ]
        }
      ],
      "source": [
        "df.info() # veri seti ile ilgili bilgiler\n",
        "\n",
        "# tool wear failure (TWF)\n",
        "# heat dissipation failure (HDF)\n",
        "# power failure (PWF)\n",
        "# overstrain failure (OSF)\n",
        "# random failures (RNF)"
      ]
    },
    {
      "cell_type": "code",
      "execution_count": 83,
      "id": "98090673-d31b-472d-9367-cfbb06a76c77",
      "metadata": {
        "colab": {
          "base_uri": "https://localhost:8080/",
          "height": 303
        },
        "id": "98090673-d31b-472d-9367-cfbb06a76c77",
        "outputId": "f66b03aa-3ec6-4f24-cbe9-fb1ae71e4844"
      },
      "outputs": [
        {
          "output_type": "display_data",
          "data": {
            "text/plain": [
              "<Figure size 360x360 with 1 Axes>"
            ],
            "image/png": "[encoded data removed]"
          },
          "metadata": {}
        }
      ],
      "source": [
        "plt.figure(figsize=(5,5)); # grafik çizdirmek için bir alan oluşturulur.\n",
        "plt.pie(df['Machine failure'].value_counts(), # makine hatası kısmı değerleri\n",
        "        labels=df['Machine failure'].unique(), # makine hatası değerlerinden 0 ve 1\n",
        "        autopct='%1.1f%%') # yüzdeli yazdırmak\n",
        "plt.show() # grafiği göster"
      ]
    },
    {
      "cell_type": "code",
      "execution_count": 84,
      "id": "86a88fd5-7f86-4629-a241-ab47072f5696",
      "metadata": {
        "colab": {
          "base_uri": "https://localhost:8080/"
        },
        "id": "86a88fd5-7f86-4629-a241-ab47072f5696",
        "outputId": "fd7e3688-d49f-4c7b-a106-0c2214e26131"
      },
      "outputs": [
        {
          "output_type": "stream",
          "name": "stdout",
          "text": [
            "10000\n",
            "3\n"
          ]
        }
      ],
      "source": [
        "print(df['Product ID'].nunique()) # ürün id'sinde tüm değerler birbirinden farklı mı diye bakılır.\n",
        "print(df['Type'].nunique()) # Type'ında kaç farklı veri var diye bakılır."
      ]
    },
    {
      "cell_type": "markdown",
      "metadata": {
        "id": "DKCYuUxV8NUI"
      },
      "source": [
        "### Veri Ön İşleme"
      ],
      "id": "DKCYuUxV8NUI"
    },
    {
      "cell_type": "code",
      "execution_count": 85,
      "id": "64526a58-a0b8-4db8-bace-281f3f68da2a",
      "metadata": {
        "id": "64526a58-a0b8-4db8-bace-281f3f68da2a"
      },
      "outputs": [],
      "source": [
        "df.drop(['Product ID','TWF', 'HDF', 'PWF', 'OSF', 'RNF'], axis=1, inplace=True) # verisetindeki ürün id'si ve eğer 1 olursa makine hatasını 1 yapacak öznitelikler çıkartılır. her ürün id'si birbirinden farklı olduğundan olduğu için makine arızasını etkilemez. Ayrıca TWF, HDF gibi hata türleri de çıkartılır. Çünkü onların olması makine arıza özniteliğimizi 1 yapacağı için modeli zorlaştırmak istedim.\n",
        "\n",
        "df.rename(columns={'Air temperature [K]':'Air temperature', 'Process temperature [K]':'Process temperature', 'Rotational speed [rpm]':'Rotational speed', 'Torque [Nm]':'Torque', 'Tool wear [min]':'Tool wear'}, inplace=True) # lightgbm sınıflandırma yaparken sütunlarda köşeli parantezler varsa hata veriyor. o yüzden sütun isimleri değiştirilir."
      ]
    },
    {
      "cell_type": "code",
      "execution_count": 86,
      "id": "086d10da-f3aa-4666-8142-9a9fc10a491c",
      "metadata": {
        "id": "086d10da-f3aa-4666-8142-9a9fc10a491c"
      },
      "outputs": [],
      "source": [
        "df = pd.get_dummies(df, columns=[\"Type\"]) # makine öğrenmesi, kategorik verilerin sayılara dönüştürülmesini gerektiriyor. Bu yüzden 'Type' kategorik öznitelik olduğu için numerik özniteliklere dönüştürülür."
      ]
    },
    {
      "cell_type": "code",
      "execution_count": 87,
      "id": "59191eb7-3608-4805-86c4-318fcaff849d",
      "metadata": {
        "colab": {
          "base_uri": "https://localhost:8080/",
          "height": 454
        },
        "id": "59191eb7-3608-4805-86c4-318fcaff849d",
        "outputId": "94634dca-9b0d-4104-e243-f55cb36d0b97"
      },
      "outputs": [
        {
          "output_type": "execute_result",
          "data": {
            "text/plain": [
              "       Air temperature  Process temperature  Rotational speed  Torque  \\\n",
              "UDI                                                                     \n",
              "1                298.1                308.6              1551    42.8   \n",
              "2                298.2                308.7              1408    46.3   \n",
              "3                298.1                308.5              1498    49.4   \n",
              "4                298.2                308.6              1433    39.5   \n",
              "5                298.2                308.7              1408    40.0   \n",
              "...                ...                  ...               ...     ...   \n",
              "9996             298.8                308.4              1604    29.5   \n",
              "9997             298.9                308.4              1632    31.8   \n",
              "9998             299.0                308.6              1645    33.4   \n",
              "9999             299.0                308.7              1408    48.5   \n",
              "10000            299.0                308.7              1500    40.2   \n",
              "\n",
              "       Tool wear  Machine failure  Type_H  Type_L  Type_M  \n",
              "UDI                                                        \n",
              "1              0                0       0       0       1  \n",
              "2              3                0       0       1       0  \n",
              "3              5                0       0       1       0  \n",
              "4              7                0       0       1       0  \n",
              "5              9                0       0       1       0  \n",
              "...          ...              ...     ...     ...     ...  \n",
              "9996          14                0       0       0       1  \n",
              "9997          17                0       1       0       0  \n",
              "9998          22                0       0       0       1  \n",
              "9999          25                0       1       0       0  \n",
              "10000         30                0       0       0       1  \n",
              "\n",
              "[10000 rows x 9 columns]"
            ],
            "text/html": [
              "\n",
              "  <div id=\"df-1a3f815c-50c4-4e1e-9637-636471a17c72\">\n",
              "    <div class=\"colab-df-container\">\n",
              "      <div>\n",
              "<style scoped>\n",
              "    .dataframe tbody tr th:only-of-type {\n",
              "        vertical-align: middle;\n",
              "    }\n",
              "\n",
              "    .dataframe tbody tr th {\n",
              "        vertical-align: top;\n",
              "    }\n",
              "\n",
              "    .dataframe thead th {\n",
              "        text-align: right;\n",
              "    }\n",
              "</style>\n",
              "<table border=\"1\" class=\"dataframe\">\n",
              "  <thead>\n",
              "    <tr style=\"text-align: right;\">\n",
              "      <th></th>\n",
              "      <th>Air temperature</th>\n",
              "      <th>Process temperature</th>\n",
              "      <th>Rotational speed</th>\n",
              "      <th>Torque</th>\n",
              "      <th>Tool wear</th>\n",
              "      <th>Machine failure</th>\n",
              "      <th>Type_H</th>\n",
              "      <th>Type_L</th>\n",
              "      <th>Type_M</th>\n",
              "    </tr>\n",
              "    <tr>\n",
              "      <th>UDI</th>\n",
              "      <th></th>\n",
              "      <th></th>\n",
              "      <th></th>\n",
              "      <th></th>\n",
              "      <th></th>\n",
              "      <th></th>\n",
              "      <th></th>\n",
              "      <th></th>\n",
              "      <th></th>\n",
              "    </tr>\n",
              "  </thead>\n",
              "  <tbody>\n",
              "    <tr>\n",
              "      <th>1</th>\n",
              "      <td>298.1</td>\n",
              "      <td>308.6</td>\n",
              "      <td>1551</td>\n",
              "      <td>42.8</td>\n",
              "      <td>0</td>\n",
              "      <td>0</td>\n",
              "      <td>0</td>\n",
              "      <td>0</td>\n",
              "      <td>1</td>\n",
              "    </tr>\n",
              "    <tr>\n",
              "      <th>2</th>\n",
              "      <td>298.2</td>\n",
              "      <td>308.7</td>\n",
              "      <td>1408</td>\n",
              "      <td>46.3</td>\n",
              "      <td>3</td>\n",
              "      <td>0</td>\n",
              "      <td>0</td>\n",
              "      <td>1</td>\n",
              "      <td>0</td>\n",
              "    </tr>\n",
              "    <tr>\n",
              "      <th>3</th>\n",
              "      <td>298.1</td>\n",
              "      <td>308.5</td>\n",
              "      <td>1498</td>\n",
              "      <td>49.4</td>\n",
              "      <td>5</td>\n",
              "      <td>0</td>\n",
              "      <td>0</td>\n",
              "      <td>1</td>\n",
              "      <td>0</td>\n",
              "    </tr>\n",
              "    <tr>\n",
              "      <th>4</th>\n",
              "      <td>298.2</td>\n",
              "      <td>308.6</td>\n",
              "      <td>1433</td>\n",
              "      <td>39.5</td>\n",
              "      <td>7</td>\n",
              "      <td>0</td>\n",
              "      <td>0</td>\n",
              "      <td>1</td>\n",
              "      <td>0</td>\n",
              "    </tr>\n",
              "    <tr>\n",
              "      <th>5</th>\n",
              "      <td>298.2</td>\n",
              "      <td>308.7</td>\n",
              "      <td>1408</td>\n",
              "      <td>40.0</td>\n",
              "      <td>9</td>\n",
              "      <td>0</td>\n",
              "      <td>0</td>\n",
              "      <td>1</td>\n",
              "      <td>0</td>\n",
              "    </tr>\n",
              "    <tr>\n",
              "      <th>...</th>\n",
              "      <td>...</td>\n",
              "      <td>...</td>\n",
              "      <td>...</td>\n",
              "      <td>...</td>\n",
              "      <td>...</td>\n",
              "      <td>...</td>\n",
              "      <td>...</td>\n",
              "      <td>...</td>\n",
              "      <td>...</td>\n",
              "    </tr>\n",
              "    <tr>\n",
              "      <th>9996</th>\n",
              "      <td>298.8</td>\n",
              "      <td>308.4</td>\n",
              "      <td>1604</td>\n",
              "      <td>29.5</td>\n",
              "      <td>14</td>\n",
              "      <td>0</td>\n",
              "      <td>0</td>\n",
              "      <td>0</td>\n",
              "      <td>1</td>\n",
              "    </tr>\n",
              "    <tr>\n",
              "      <th>9997</th>\n",
              "      <td>298.9</td>\n",
              "      <td>308.4</td>\n",
              "      <td>1632</td>\n",
              "      <td>31.8</td>\n",
              "      <td>17</td>\n",
              "      <td>0</td>\n",
              "      <td>1</td>\n",
              "      <td>0</td>\n",
              "      <td>0</td>\n",
              "    </tr>\n",
              "    <tr>\n",
              "      <th>9998</th>\n",
              "      <td>299.0</td>\n",
              "      <td>308.6</td>\n",
              "      <td>1645</td>\n",
              "      <td>33.4</td>\n",
              "      <td>22</td>\n",
              "      <td>0</td>\n",
              "      <td>0</td>\n",
              "      <td>0</td>\n",
              "      <td>1</td>\n",
              "    </tr>\n",
              "    <tr>\n",
              "      <th>9999</th>\n",
              "      <td>299.0</td>\n",
              "      <td>308.7</td>\n",
              "      <td>1408</td>\n",
              "      <td>48.5</td>\n",
              "      <td>25</td>\n",
              "      <td>0</td>\n",
              "      <td>1</td>\n",
              "      <td>0</td>\n",
              "      <td>0</td>\n",
              "    </tr>\n",
              "    <tr>\n",
              "      <th>10000</th>\n",
              "      <td>299.0</td>\n",
              "      <td>308.7</td>\n",
              "      <td>1500</td>\n",
              "      <td>40.2</td>\n",
              "      <td>30</td>\n",
              "      <td>0</td>\n",
              "      <td>0</td>\n",
              "      <td>0</td>\n",
              "      <td>1</td>\n",
              "    </tr>\n",
              "  </tbody>\n",
              "</table>\n",
              "<p>10000 rows × 9 columns</p>\n",
              "</div>\n",
              "      <button class=\"colab-df-convert\" onclick=\"convertToInteractive('df-1a3f815c-50c4-4e1e-9637-636471a17c72')\"\n",
              "              title=\"Convert this dataframe to an interactive table.\"\n",
              "              style=\"display:none;\">\n",
              "        \n",
              "  <svg xmlns=\"http://www.w3.org/2000/svg\" height=\"24px\"viewBox=\"0 0 24 24\"\n",
              "       width=\"24px\">\n",
              "    <path d=\"M0 0h24v24H0V0z\" fill=\"none\"/>\n",
              "    <path d=\"M18.56 5.44l.94 2.06.94-2.06 2.06-.94-2.06-.94-.94-2.06-.94 2.06-2.06.94zm-11 1L8.5 8.5l.94-2.06 2.06-.94-2.06-.94L8.5 2.5l-.94 2.06-2.06.94zm10 10l.94 2.06.94-2.06 2.06-.94-2.06-.94-.94-2.06-.94 2.06-2.06.94z\"/><path d=\"M17.41 7.96l-1.37-1.37c-.4-.4-.92-.59-1.43-.59-.52 0-1.04.2-1.43.59L10.3 9.45l-7.72 7.72c-.78.78-.78 2.05 0 2.83L4 21.41c.39.39.9.59 1.41.59.51 0 1.02-.2 1.41-.59l7.78-7.78 2.81-2.81c.8-.78.8-2.07 0-2.86zM5.41 20L4 18.59l7.72-7.72 1.47 1.35L5.41 20z\"/>\n",
              "  </svg>\n",
              "      </button>\n",
              "      \n",
              "  <style>\n",
              "    .colab-df-container {\n",
              "      display:flex;\n",
              "      flex-wrap:wrap;\n",
              "      gap: 12px;\n",
              "    }\n",
              "\n",
              "    .colab-df-convert {\n",
              "      background-color: #E8F0FE;\n",
              "      border: none;\n",
              "      border-radius: 50%;\n",
              "      cursor: pointer;\n",
              "      display: none;\n",
              "      fill: #1967D2;\n",
              "      height: 32px;\n",
              "      padding: 0 0 0 0;\n",
              "      width: 32px;\n",
              "    }\n",
              "\n",
              "    .colab-df-convert:hover {\n",
              "      background-color: #E2EBFA;\n",
              "      box-shadow: 0px 1px 2px rgba(60, 64, 67, 0.3), 0px 1px 3px 1px rgba(60, 64, 67, 0.15);\n",
              "      fill: #174EA6;\n",
              "    }\n",
              "\n",
              "    [theme=dark] .colab-df-convert {\n",
              "      background-color: #3B4455;\n",
              "      fill: #D2E3FC;\n",
              "    }\n",
              "\n",
              "    [theme=dark] .colab-df-convert:hover {\n",
              "      background-color: #434B5C;\n",
              "      box-shadow: 0px 1px 3px 1px rgba(0, 0, 0, 0.15);\n",
              "      filter: drop-shadow(0px 1px 2px rgba(0, 0, 0, 0.3));\n",
              "      fill: #FFFFFF;\n",
              "    }\n",
              "  </style>\n",
              "\n",
              "      <script>\n",
              "        const buttonEl =\n",
              "          document.querySelector('#df-1a3f815c-50c4-4e1e-9637-636471a17c72 button.colab-df-convert');\n",
              "        buttonEl.style.display =\n",
              "          google.colab.kernel.accessAllowed ? 'block' : 'none';\n",
              "\n",
              "        async function convertToInteractive(key) {\n",
              "          const element = document.querySelector('#df-1a3f815c-50c4-4e1e-9637-636471a17c72');\n",
              "          const dataTable =\n",
              "            await google.colab.kernel.invokeFunction('convertToInteractive',\n",
              "                                                     [key], {});\n",
              "          if (!dataTable) return;\n",
              "\n",
              "          const docLinkHtml = 'Like what you see? Visit the ' +\n",
              "            '<a target=\"_blank\" href=https://colab.research.google.com/notebooks/data_table.ipynb>data table notebook</a>'\n",
              "            + ' to learn more about interactive tables.';\n",
              "          element.innerHTML = '';\n",
              "          dataTable['output_type'] = 'display_data';\n",
              "          await google.colab.output.renderOutput(dataTable, element);\n",
              "          const docLink = document.createElement('div');\n",
              "          docLink.innerHTML = docLinkHtml;\n",
              "          element.appendChild(docLink);\n",
              "        }\n",
              "      </script>\n",
              "    </div>\n",
              "  </div>\n",
              "  "
            ]
          },
          "metadata": {},
          "execution_count": 87
        }
      ],
      "source": [
        "df"
      ]
    },
    {
      "cell_type": "code",
      "execution_count": 88,
      "id": "d18ef54c-8924-4522-8959-5d0833e7c301",
      "metadata": {
        "id": "d18ef54c-8924-4522-8959-5d0833e7c301"
      },
      "outputs": [],
      "source": [
        "X = df.drop(['Machine failure'], axis=1) # Girdi verilerimize Makine arıza hariç hepsi seçilir.\n",
        "y = df['Machine failure'] # Makine arızasını tahmin etmek istediğimiz için çıktı olarak 'Machine failure' seçilir. "
      ]
    },
    {
      "cell_type": "code",
      "execution_count": 89,
      "id": "85debff5-9ce1-466c-8d23-6702ad8bb35b",
      "metadata": {
        "id": "85debff5-9ce1-466c-8d23-6702ad8bb35b"
      },
      "outputs": [],
      "source": [
        "# x'lerden ve y'den oluşan 4 adet yeni df oluşturur. test büyüklüğümüz toplam veri setimizin yüzde 25'i olacaktır. random_state her modülü çalıştırdığımızda aynı veri setlerini üretebilmek için kullanılır.\n",
        "X_train, X_test, y_train, y_test = train_test_split(X, y, test_size = 0.25, random_state = 42)"
      ]
    },
    {
      "cell_type": "markdown",
      "id": "a10ba338-324c-44d0-aa2c-cdc051d63601",
      "metadata": {
        "id": "a10ba338-324c-44d0-aa2c-cdc051d63601"
      },
      "source": [
        "Verilerimizin dağılışına göre ölçeklendirme yapacağımız için verilerin dağılımına Minitab yardımıyla bakılır. Minitab'den 'Normality Test' yapılarak verilerimizin normal olup olmadığını ise p-value(p değeri) ile anlayabiliriz. Normality test grafikleri aşağıdadır. Eğer p-değeri 0.05'ten küçükse verimiz normal dağılıma uymaz. Bundan dolayı bizim verilerimizin çoğunun normal dağılıma uymadığı görülür. \n",
        "\n",
        "![Alt_text](https://i.imgur.com/d1u74dh.png)\n",
        "\n",
        "Ama ben modellerimde karar ağaçları ve lojistik regresyon kullandığım için ölçeklendirmeye gerek duymadım. Çünkü ölçeklendirmenin ana amacı doğruluktan çok az feragat ederek sonuca daha hızlı ulaşmaktır. Ağaç bazlı modellerde özniteliklerin ölçeği önemli değildir. "
      ]
    },
    {
      "cell_type": "markdown",
      "metadata": {
        "id": "XpG6lTStAS94"
      },
      "source": [
        "### Modelleme(LightGBM)"
      ],
      "id": "XpG6lTStAS94"
    },
    {
      "cell_type": "markdown",
      "source": [
        "**LightGBM:** Denetimli makine öğrenimine girer. Karar ağacı yöntemidir. \n",
        "Karar ağaçları, tek başına zayıf öğrenen modellerdir. Güçlendirmek için boosting yöntemleri kullanılır. Boosting, topluluk öğrenme (ensemble learning) yöntemlerinden biridir. Zayıf öğrenicileri güçlü öğrenicilere dönüştürme işlemidir. LightGBM de bunlardan biridir. Microsoft tarafından geliştirilmiş olup yeni sayılan bir algoritmadır. Yeni olduğundan dolayı hakkındaki doküman, diğer boosting çeşitleri kadar fazla değildir. "
      ],
      "metadata": {
        "id": "lGEPUQdZozwA"
      },
      "id": "lGEPUQdZozwA"
    },
    {
      "cell_type": "code",
      "execution_count": 90,
      "id": "7cc968e3-900d-4626-b84d-3b3a32e337b8",
      "metadata": {
        "id": "7cc968e3-900d-4626-b84d-3b3a32e337b8"
      },
      "outputs": [],
      "source": [
        "lgb_clf = lgb.LGBMClassifier(random_state=68) # model lightgbm için yapılacağı için modül yüklenir. varsayılan parametreleri iledir.\n",
        "\n",
        "lgb_clf.fit(X_train, y_train)  # eğitim gerçekleştir.\n",
        "\n",
        "y_pred = lgb_clf.predict(X_test) # X_test'ten y değerleri tahmin edilip y_pred'e atanır."
      ]
    },
    {
      "cell_type": "markdown",
      "id": "5e123fe5-3304-48e2-843a-59e75fa83449",
      "metadata": {
        "id": "5e123fe5-3304-48e2-843a-59e75fa83449"
      },
      "source": [
        "___"
      ]
    },
    {
      "cell_type": "code",
      "execution_count": 91,
      "id": "0b8b7ac1-6c7e-4308-974b-bac49848fe26",
      "metadata": {
        "colab": {
          "base_uri": "https://localhost:8080/"
        },
        "id": "0b8b7ac1-6c7e-4308-974b-bac49848fe26",
        "outputId": "c48bac09-3e5c-4abc-bc7d-1026b5440a29"
      },
      "outputs": [
        {
          "output_type": "stream",
          "name": "stdout",
          "text": [
            "LightGBM Model eğitim veri seti doğruluğu: 1.0000\n",
            "LightGBM Model test veri seti doğruluğu: 0.9876\n"
          ]
        }
      ],
      "source": [
        "# Modelimizde overfitting olmuş mu diye bakmak için eğitim skoru ve test skoru karşılaştırılır. eğer değerler yakınsa overfitting yoktur denir.\n",
        "\n",
        "# Eğitim skoru\n",
        "y_pred_train = lgb_clf.predict(X_train)\n",
        "print('LightGBM Model eğitim veri seti doğruluğu: {0:0.4f}'. format(metrics.accuracy_score(y_train, y_pred_train)))\n",
        "\n",
        "# Test skoru\n",
        "accuracy_lightgbm = metrics.accuracy_score(y_pred, y_test)\n",
        "print('LightGBM Model test veri seti doğruluğu: {0:0.4f}'.format(metrics.accuracy_score(y_test, y_pred)))"
      ]
    },
    {
      "cell_type": "markdown",
      "source": [
        "Değerler yakın olduğu için overfitting ezberleme yoktur diyebiliriz."
      ],
      "metadata": {
        "id": "tZ4lVFwxoC-l"
      },
      "id": "tZ4lVFwxoC-l"
    },
    {
      "cell_type": "markdown",
      "metadata": {
        "id": "Z5ANsCGKAWgC"
      },
      "source": [
        "### Performans Değerlendirmesi"
      ],
      "id": "Z5ANsCGKAWgC"
    },
    {
      "cell_type": "code",
      "execution_count": 92,
      "id": "53590fe7-0763-4533-b52d-18ed087544f2",
      "metadata": {
        "colab": {
          "base_uri": "https://localhost:8080/"
        },
        "id": "53590fe7-0763-4533-b52d-18ed087544f2",
        "outputId": "fe64bca7-8407-46c6-bab5-cbb7655834c7"
      },
      "outputs": [
        {
          "output_type": "stream",
          "name": "stdout",
          "text": [
            "[[2419    9]\n",
            " [  22   50]]\n"
          ]
        }
      ],
      "source": [
        "# Sınıflandırma işlemi sonrası karmaşıklık matrisi ile performans değerlendirmesi yapılır.\n",
        "\n",
        "print(metrics.confusion_matrix(y_true = y_test, y_pred=y_pred)) # y_true: doğru hedef değişkenleridir. y_pred: sınıflandırma modelinden çıkan tahmin sonuçlarıdır."
      ]
    },
    {
      "cell_type": "markdown",
      "id": "4d35d5d2-1356-4051-8afe-fc9c2d95c089",
      "metadata": {
        "id": "4d35d5d2-1356-4051-8afe-fc9c2d95c089"
      },
      "source": [
        "Yukarıdaki matris, ikili (binary) sınıflandırma için kurulmuş olan bir modelin çıktısının confusion matrix’idir. 2419 ve 50 doğru tahminlerdir.\n",
        "\n",
        "Yani bizim gerçek verimizde 2419 kere makinenin arıza yapacağı ve 50 kere arıza yapmayacağı doğru tahmin edilmiştir.\n",
        "\n",
        "Bir yandan da makine arıza yapmayacakken 9 kere arıza yapacağı ve 22 kere arıza yapacağı zaman da arıza yapmayacak şeklinde tahmin ederek yanlış tahminde bulunmuştur.\n",
        "\n",
        "![kaynak](https://i.imgur.com/6A8xQ8C.png)"
      ]
    },
    {
      "cell_type": "code",
      "execution_count": 93,
      "id": "e5a5f51f-696d-42f7-823a-551094d6bb66",
      "metadata": {
        "colab": {
          "base_uri": "https://localhost:8080/"
        },
        "id": "e5a5f51f-696d-42f7-823a-551094d6bb66",
        "outputId": "4502c02d-2ea3-465f-d1a4-0fb8fe417390"
      },
      "outputs": [
        {
          "output_type": "stream",
          "name": "stdout",
          "text": [
            "              precision    recall  f1-score   support\n",
            "\n",
            "           0       0.99      1.00      0.99      2428\n",
            "           1       0.85      0.69      0.76        72\n",
            "\n",
            "    accuracy                           0.99      2500\n",
            "   macro avg       0.92      0.85      0.88      2500\n",
            "weighted avg       0.99      0.99      0.99      2500\n",
            "\n"
          ]
        }
      ],
      "source": [
        "print(metrics.classification_report(y_true = y_test, y_pred=y_pred)) # y_true: doğru hedef değişkenleridir. y_pred: sınıflandırma modelinden çıkan tahmin sonuçlarıdır."
      ]
    },
    {
      "cell_type": "code",
      "execution_count": 94,
      "id": "d66a5118-051a-4e72-b4b7-eb10093e317c",
      "metadata": {
        "colab": {
          "base_uri": "https://localhost:8080/"
        },
        "id": "d66a5118-051a-4e72-b4b7-eb10093e317c",
        "outputId": "d4b59cbf-8fdd-4af3-80d6-dc5b98fe76b3"
      },
      "outputs": [
        {
          "output_type": "execute_result",
          "data": {
            "text/plain": [
              "0.76"
            ]
          },
          "metadata": {},
          "execution_count": 94
        }
      ],
      "source": [
        "# doğru yapılan tahmin / toplam yapılan tahmin %99 ile arıza yapıp yapmayacağını\n",
        "# Modelimizin öngörülen çıktı değerleri ağırlıklı ortalama %99 doğrudur.\n",
        "# Modelimizle birlikte kaç tane olumlu vakanın doğru tahmin edildiği yüzdesini verir. O da ağırlıklı %99\n",
        "mcc_lightgbm = round(metrics.matthews_corrcoef(y_test, y_pred),2) # Matthews Correlation Coefficient (MCC) hesaplama\n",
        "mcc_lightgbm"
      ]
    },
    {
      "cell_type": "markdown",
      "id": "88e9ad33-55e5-4a45-aba9-f9a24745b789",
      "metadata": {
        "id": "88e9ad33-55e5-4a45-aba9-f9a24745b789"
      },
      "source": [
        "*Gerçek veriler ile tahmin edilen veriler arasındaki korelasyon (phi-coefficient) ilişkisine bakarak değerlendirme yapar. MCC, -1 ile 1 arasında değer alır. Çıkan tüm sonuçlara bakarak modelimiz fena olmayan bir sınıflandırma tahmini yapmıştır.*\n",
        "___"
      ]
    },
    {
      "cell_type": "markdown",
      "id": "a3130f4c-5a19-4c3f-9178-e2fc7de40b66",
      "metadata": {
        "id": "a3130f4c-5a19-4c3f-9178-e2fc7de40b66"
      },
      "source": [
        "ROC ve AUC sınıflandırmada kullanılan bir başka performans ölçümleridir.\n",
        "\n",
        "*ROC eğrisi, sınıflandırmada modele ne kadar güvenebileceğimizi gösteren bir grafik türüdür. Eğri, grafiğin sol üst köşesine ne kadar yakın olursa modelin verileri  sınıflandırmada daha iyi olduğu görülür.*\n",
        "\n",
        "*Eğriyi altında kalan alanı ölçmek için AUC(area under the curve) hesaplanabilir. Sonuç 1'e ne kadar yakınsa model iyidir, 0.5'e eşit olan bir modelse, kötü bir sınıflandırma yapmıştır, denir.*"
      ]
    },
    {
      "cell_type": "code",
      "execution_count": 95,
      "id": "bd0f5e6a-8b45-4d11-9fea-6b05fae67c69",
      "metadata": {
        "colab": {
          "base_uri": "https://localhost:8080/",
          "height": 278
        },
        "id": "bd0f5e6a-8b45-4d11-9fea-6b05fae67c69",
        "outputId": "1d94dd38-a858-45c5-dfdc-e58ebdf58d0a"
      },
      "outputs": [
        {
          "output_type": "display_data",
          "data": {
            "text/plain": [
              "<Figure size 432x288 with 1 Axes>"
            ],
            "image/png": "[encoded data removed]"
          },
          "metadata": {
            "needs_background": "light"
          }
        }
      ],
      "source": [
        "# metrikler tanımlanır\n",
        "lightfpr, lighttpr, _ = metrics.roc_curve(y_test,  y_pred)\n",
        "light_auc = metrics.roc_auc_score(y_test, y_pred)\n",
        "\n",
        "# ROC eğrisi ve AUC hesaplanır.\n",
        "plt.plot(lightfpr,lighttpr,label=\"AUC=\"+str(light_auc))\n",
        "plt.ylabel('True Positive Rate')\n",
        "plt.xlabel('False Positive Rate')\n",
        "plt.legend(loc=4)\n",
        "plt.show()"
      ]
    },
    {
      "cell_type": "code",
      "execution_count": 96,
      "id": "e3eb7dee-cb77-4a11-bd21-66e0eb36e979",
      "metadata": {
        "colab": {
          "base_uri": "https://localhost:8080/",
          "height": 578
        },
        "id": "e3eb7dee-cb77-4a11-bd21-66e0eb36e979",
        "outputId": "771b43da-a842-4243-bde5-b45116fb7df4"
      },
      "outputs": [
        {
          "output_type": "stream",
          "name": "stdout",
          "text": [
            "Feature: 0, Score: 555.00000\n",
            "Feature: 1, Score: 514.00000\n",
            "Feature: 2, Score: 582.00000\n",
            "Feature: 3, Score: 697.00000\n",
            "Feature: 4, Score: 512.00000\n",
            "Feature: 5, Score: 40.00000\n",
            "Feature: 6, Score: 64.00000\n",
            "Feature: 7, Score: 36.00000\n"
          ]
        },
        {
          "output_type": "display_data",
          "data": {
            "text/plain": [
              "<Figure size 763.2x360 with 1 Axes>"
            ],
            "image/png": "[encoded data removed]"
          },
          "metadata": {
            "needs_background": "light"
          }
        }
      ],
      "source": [
        "# Özniteliklerin modelimizde ne kadar önemli olduklarını belirtme\n",
        "importance = lgb_clf.feature_importances_\n",
        "for i,v in enumerate(importance):\n",
        "    print('Feature: %0d, Score: %.5f' % (i,v))\n",
        "    \n",
        "# grafiği çizdirilir.\n",
        "plt.figure(figsize=(10.6,5))\n",
        "plt.bar([x for x in range(len(importance))], importance)\n",
        "plt.xticks(range(len(importance)),['Air temperature [K]', 'Process temperature [K]', 'Rotational speed [rpm]', 'Torque [Nm]', 'Tool wear [min]','Type_H','Type_L','Type_M'], rotation = 90 )\n",
        "plt.show()"
      ]
    },
    {
      "cell_type": "markdown",
      "source": [
        "LightGBM modelimizde makine hatasını en çok Tork etkilemiştir."
      ],
      "metadata": {
        "id": "56ti9lu_oXV-"
      },
      "id": "56ti9lu_oXV-"
    },
    {
      "cell_type": "markdown",
      "id": "35818340-efd9-4a25-a33f-f1448ce7d101",
      "metadata": {
        "id": "35818340-efd9-4a25-a33f-f1448ce7d101"
      },
      "source": [
        "____\n",
        "**Lojistik Regresyon ile Sınıflandırma Yapılsaydı**"
      ]
    },
    {
      "cell_type": "markdown",
      "metadata": {
        "id": "3QZKxWINAcYx"
      },
      "source": [
        "### Modelleme(Lojistik Regresyon)"
      ],
      "id": "3QZKxWINAcYx"
    },
    {
      "cell_type": "markdown",
      "source": [
        "**Lojistik Regresyon:** Denetimli makine öğrenimine girer. Girdi ve çıktı verilerini alarak sınıflandırma yaparak çıktı verilerini tahmin eder. Bu çalışmada ikili(binary) lojistik regresyon kullanılmıştır."
      ],
      "metadata": {
        "id": "Fv8vHQzEpHAD"
      },
      "id": "Fv8vHQzEpHAD"
    },
    {
      "cell_type": "code",
      "execution_count": 97,
      "id": "07854541-b01f-4b88-9325-776d2ce35f59",
      "metadata": {
        "colab": {
          "base_uri": "https://localhost:8080/"
        },
        "id": "07854541-b01f-4b88-9325-776d2ce35f59",
        "outputId": "db3e7f35-b692-4fca-b8fe-07990d2e483e"
      },
      "outputs": [
        {
          "output_type": "execute_result",
          "data": {
            "text/plain": [
              "LogisticRegression(random_state=68)"
            ]
          },
          "metadata": {},
          "execution_count": 97
        }
      ],
      "source": [
        "from sklearn.linear_model import LogisticRegression # Lojistik regresyon için modüldür.\n",
        "\n",
        "model = LogisticRegression(random_state=68) # model lojistik regresyon için yapılacağı için modül yüklenir.\n",
        "model.fit(X_train, y_train)  # eğitim gerçekleştir."
      ]
    },
    {
      "cell_type": "code",
      "execution_count": 98,
      "id": "0bf079a7-3e5e-49a8-badb-a9f3911c026c",
      "metadata": {
        "id": "0bf079a7-3e5e-49a8-badb-a9f3911c026c"
      },
      "outputs": [],
      "source": [
        "y_tahmin = model.predict(X_test)  # Modeldeki x_testleri tahmin edilir ve y_tahmin değşikenine atanır."
      ]
    },
    {
      "cell_type": "markdown",
      "metadata": {
        "id": "T55bqPhNAgYL"
      },
      "source": [
        "### Performans Değerlendirmesi"
      ],
      "id": "T55bqPhNAgYL"
    },
    {
      "cell_type": "code",
      "execution_count": 99,
      "id": "c03ca3d3-a5a4-4079-b61e-f7bec24e1591",
      "metadata": {
        "colab": {
          "base_uri": "https://localhost:8080/"
        },
        "id": "c03ca3d3-a5a4-4079-b61e-f7bec24e1591",
        "outputId": "51467925-f760-4717-a9b2-71360cd73734"
      },
      "outputs": [
        {
          "output_type": "stream",
          "name": "stdout",
          "text": [
            "[[2417   11]\n",
            " [  53   19]]\n"
          ]
        }
      ],
      "source": [
        "print(metrics.confusion_matrix(y_true = y_test, y_pred=y_tahmin)) # y_true: doğru hedef değişkenleridir. y_pred: sınıflandırma modelinden çıkan tahmin sonuçlarıdır."
      ]
    },
    {
      "cell_type": "markdown",
      "id": "67214aef-aaa2-406e-9324-3030f9e01c5b",
      "metadata": {
        "id": "67214aef-aaa2-406e-9324-3030f9e01c5b"
      },
      "source": [
        "Lojistik regresyonda hata sayımız 33 artmıştır.\n",
        "Yukarıdaki matris, ikili (binary) sınıflandırma için kurulmuş olan bir modelin çıktısının confusion matrix’idir. 2417 ve 19 doğru tahminlerdir.\n",
        "\n",
        "Yani bizim gerçek verimizde 2417 kere makinenin arıza yapacağı ve 19 kere arıza yapmayacağı doğru tahmin edilmiştir.\n",
        "\n",
        "Bir yandan da makine arıza yapmayacakken 11 kere arıza yapacağı ve 53 kere arıza yapacağı zaman da arıza yapmayacak şeklinde tahmin ederek yanlış tahminde bulunmuştur."
      ]
    },
    {
      "cell_type": "code",
      "execution_count": 100,
      "id": "3f22517b-0ee7-4a1c-ac3a-5f110a414069",
      "metadata": {
        "colab": {
          "base_uri": "https://localhost:8080/"
        },
        "id": "3f22517b-0ee7-4a1c-ac3a-5f110a414069",
        "outputId": "3283f8c6-bad2-411b-c76b-844dfbd8ae75"
      },
      "outputs": [
        {
          "output_type": "stream",
          "name": "stdout",
          "text": [
            "              precision    recall  f1-score   support\n",
            "\n",
            "           0       0.98      1.00      0.99      2428\n",
            "           1       0.63      0.26      0.37        72\n",
            "\n",
            "    accuracy                           0.97      2500\n",
            "   macro avg       0.81      0.63      0.68      2500\n",
            "weighted avg       0.97      0.97      0.97      2500\n",
            "\n"
          ]
        }
      ],
      "source": [
        "print(metrics.classification_report(y_true = y_test, y_pred=y_tahmin)) # y_true: doğru hedef değişkenleridir. y_pred: sınıflandırma modelinden çıkan tahmin sonuçlarıdır."
      ]
    },
    {
      "cell_type": "code",
      "execution_count": 101,
      "id": "425aa94e-2234-4cc3-bb1d-d0522a35db05",
      "metadata": {
        "colab": {
          "base_uri": "https://localhost:8080/"
        },
        "id": "425aa94e-2234-4cc3-bb1d-d0522a35db05",
        "outputId": "db94c76c-ac16-47b8-c825-93faa85a43ce"
      },
      "outputs": [
        {
          "output_type": "execute_result",
          "data": {
            "text/plain": [
              "0.4"
            ]
          },
          "metadata": {},
          "execution_count": 101
        }
      ],
      "source": [
        "# doğru yapılan tahmin / toplam yapılan tahmin %98 ile kredi verilip verilmeyeceği \n",
        "# Modelimizin öngörülen çıktı değerleri ağırlıklı ortalama %97 doğrudur.\n",
        "# Modelimizle birlikte kaç tane olumlu vakanın doğru tahmin edildiği yüzdesini verir. O da ağırlıklı %98\n",
        "mcc_logistic = round(metrics.matthews_corrcoef(y_test, y_tahmin),2) # Matthews Correlation Coefficient (MCC) hesaplama\n",
        "mcc_logistic"
      ]
    },
    {
      "cell_type": "code",
      "execution_count": 102,
      "id": "96a177d8-018e-4693-99a9-979ef747422f",
      "metadata": {
        "colab": {
          "base_uri": "https://localhost:8080/",
          "height": 278
        },
        "id": "96a177d8-018e-4693-99a9-979ef747422f",
        "outputId": "38f65f48-fc17-4ace-c782-a923f853217a"
      },
      "outputs": [
        {
          "output_type": "display_data",
          "data": {
            "text/plain": [
              "<Figure size 432x288 with 1 Axes>"
            ],
            "image/png": "[encoded data removed]"
          },
          "metadata": {
            "needs_background": "light"
          }
        }
      ],
      "source": [
        "# metrikler tanımlanır\n",
        "linfpr, lintpr, _ = metrics.roc_curve(y_test,  y_tahmin)\n",
        "lin_auc = metrics.roc_auc_score(y_test, y_tahmin)\n",
        "\n",
        "# ROC eğrisi ve AUC hesaplanır.\n",
        "plt.plot(linfpr,lintpr,label=\"AUC=\"+str(lin_auc))\n",
        "plt.ylabel('True Positive Rate')\n",
        "plt.xlabel('False Positive Rate')\n",
        "plt.legend(loc=4)\n",
        "plt.show()"
      ]
    },
    {
      "cell_type": "markdown",
      "source": [
        "LightGBM modelimize göre Lojistik regresyon kötü bir sonuç vermiştir."
      ],
      "metadata": {
        "id": "i_EU2aXFogGS"
      },
      "id": "i_EU2aXFogGS"
    },
    {
      "cell_type": "code",
      "execution_count": 103,
      "id": "ee8e2a5b-9f6b-472e-b606-ef3802a727a7",
      "metadata": {
        "colab": {
          "base_uri": "https://localhost:8080/"
        },
        "id": "ee8e2a5b-9f6b-472e-b606-ef3802a727a7",
        "outputId": "276ccb1f-442e-4132-8797-d5d3d38cff86"
      },
      "outputs": [
        {
          "output_type": "stream",
          "name": "stdout",
          "text": [
            "LightGBM Model eğitim veri seti doğruluğu: 0.9687\n",
            "LightGBM Model test veri seti doğruluğu: 0.9744\n"
          ]
        }
      ],
      "source": [
        "# Modelimizde overfitting olmuş mu diye bakmak için eğitim skoru ve test skoru karşılaştırılır. eğer değerler yakınsa overfitting yoktur denir.\n",
        "\n",
        "# Eğitim skoru\n",
        "y_pred_train = model.predict(X_train)\n",
        "print('LightGBM Model eğitim veri seti doğruluğu: {0:0.4f}'. format(metrics.accuracy_score(y_train, y_pred_train)))\n",
        "\n",
        "# Test skoru\n",
        "accuracy_linear = metrics.accuracy_score(y_tahmin, y_test)\n",
        "print('LightGBM Model test veri seti doğruluğu: {0:0.4f}'.format(metrics.accuracy_score(y_test, y_tahmin)))"
      ]
    },
    {
      "cell_type": "markdown",
      "metadata": {
        "id": "9OHNWSxWxS8A"
      },
      "source": [
        "### Sonuç"
      ],
      "id": "9OHNWSxWxS8A"
    },
    {
      "cell_type": "code",
      "execution_count": 104,
      "id": "98e966d2-79e6-4e76-9b38-55c76a7bd141",
      "metadata": {
        "colab": {
          "base_uri": "https://localhost:8080/",
          "height": 513
        },
        "id": "98e966d2-79e6-4e76-9b38-55c76a7bd141",
        "outputId": "412df685-d715-41d9-ef15-6b57b130382c"
      },
      "outputs": [
        {
          "output_type": "display_data",
          "data": {
            "text/plain": [
              "<Figure size 360x576 with 1 Axes>"
            ],
            "image/png": "[encoded data removed]"
          },
          "metadata": {
            "needs_background": "light"
          }
        }
      ],
      "source": [
        "# Doğruluk çubuk grafik(bar) \n",
        "acc = ['LightGBM', 'Lojistik Regresyon']\n",
        "acc_values = [accuracy_lightgbm, accuracy_linear]\n",
        "\n",
        "col_map = plt.get_cmap('tab10') # her bir çubuğu renklendirmek için matplot'tan get_cmap fonksiyonu ile tab10 renkleri seçilir.\n",
        "plt.figure(figsize=(5,8)) # 5x8 inçlik bir grafik oluşturmak için grafiğin boyutları belirlenir.\n",
        "plt.bar(acc, acc_values, color =col_map.colors) # grafik çizdirilir.\n",
        "\n",
        "# her çubuğun hangi değerde olduğu yazdırılır.\n",
        "for j, k in zip(acc, acc_values):\n",
        "    plt.annotate(str(k), xy=(j,k))\n",
        "    \n",
        "plt.xlabel(\"Algoritma çeşitleri\") # x ekseni ismi\n",
        "plt.ylabel(\"Yüzdeler\") # y ekseni ismi\n",
        "plt.title(\"Doğruluk(Accuracy) (daha yüksek daha iyi)\") # grafik ismi\n",
        "plt.grid(color = 'black', linestyle = '--', linewidth = 0.3) # kılavuz çizgileri\n",
        "\n",
        "plt.show() # grafiğı göster"
      ]
    },
    {
      "cell_type": "code",
      "execution_count": 105,
      "id": "636502c4-f235-49f6-8898-15dadabc755e",
      "metadata": {
        "colab": {
          "base_uri": "https://localhost:8080/",
          "height": 513
        },
        "id": "636502c4-f235-49f6-8898-15dadabc755e",
        "outputId": "c6ae6793-4251-4376-cdec-2ff984b8bfdc"
      },
      "outputs": [
        {
          "output_type": "display_data",
          "data": {
            "text/plain": [
              "<Figure size 360x576 with 1 Axes>"
            ],
            "image/png": "[encoded data removed]"
          },
          "metadata": {
            "needs_background": "light"
          }
        }
      ],
      "source": [
        "# Doğruluk çubuk grafik(bar) \n",
        "mcc = ['LightGBM', 'Lojistik Regresyon']\n",
        "mcc_values = [mcc_lightgbm, mcc_logistic]\n",
        "\n",
        "col_map = plt.get_cmap('tab10') # her bir çubuğu renklendirmek için matplot'tan get_cmap fonksiyonu ile tab10 renkleri seçilir.\n",
        "plt.figure(figsize=(5,8)) # 5x8 inçlik bir grafik oluşturmak için grafiğin boyutları belirlenir.\n",
        "plt.bar(mcc, mcc_values, color =col_map.colors) # grafik çizdirilir.\n",
        "\n",
        "# her çubuğun hangi değerde olduğu yazdırılır.\n",
        "for j, k in zip(mcc, mcc_values):\n",
        "    plt.annotate(str(k), xy=(j,k))\n",
        "    \n",
        "plt.xlabel(\"Algoritma çeşitleri\") # x ekseni ismi\n",
        "plt.ylabel(\"Yüzdeler\") # y ekseni ismi\n",
        "plt.title(\"MCC(daha yüksek daha iyi)\") # grafik ismi\n",
        "plt.grid(color = 'black', linestyle = '--', linewidth = 0.3) # kılavuz çizgileri\n",
        "\n",
        "plt.show() # grafiğı göster"
      ]
    },
    {
      "cell_type": "markdown",
      "source": [
        "Sonuç olarak sadece bu performans değerlendirmelerine bakarsak bu veri setinde bu problem için en iyi performansı LightGBM ile elde edilmiştir. "
      ],
      "metadata": {
        "id": "LzMe_8LIuDue"
      },
      "id": "LzMe_8LIuDue"
    }
  ],
  "metadata": {
    "kernelspec": {
      "display_name": "Python 3 (ipykernel)",
      "language": "python",
      "name": "python3"
    },
    "language_info": {
      "codemirror_mode": {
        "name": "ipython",
        "version": 3
      },
      "file_extension": ".py",
      "mimetype": "text/x-python",
      "name": "python",
      "nbconvert_exporter": "python",
      "pygments_lexer": "ipython3",
      "version": "3.9.8"
    },
    "colab": {
      "name": "b180102045-yönetim_bilisim_sis",
      "provenance": [],
      "collapsed_sections": []
    }
  },
  "nbformat": 4,
  "nbformat_minor": 5
}